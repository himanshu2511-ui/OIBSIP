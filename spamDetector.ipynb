{
 "cells": [
  {
   "cell_type": "code",
   "execution_count": 1,
   "id": "3bcf23fe-6417-445b-8f2d-353a4bbd3017",
   "metadata": {},
   "outputs": [
    {
     "name": "stdout",
     "output_type": "stream",
     "text": [
      "Number of nulls in labels: 0\n",
      "Number of nulls in text: 0\n",
      "   label                                               text\n",
      "0    ham  Go until jurong point, crazy.. Available only ...\n",
      "1    ham                      Ok lar... Joking wif u oni...\n",
      "2   spam  Free entry in 2 a wkly comp to win FA Cup fina...\n",
      "3    ham  U dun say so early hor... U c already then say...\n",
      "4    ham  Nah I don't think he goes to usf, he lives aro...\n",
      "5   spam  FreeMsg Hey there darling it's been 3 week's n...\n",
      "6    ham  Even my brother is not like to speak with me. ...\n",
      "7    ham  As per your request 'Melle Melle (Oru Minnamin...\n",
      "8   spam  WINNER!! As a valued network customer you have...\n",
      "9   spam  Had your mobile 11 months or more? U R entitle...\n",
      "10   ham  I'm gonna be home soon and i don't want to tal...\n",
      "11  spam  SIX chances to win CASH! From 100 to 20,000 po...\n",
      "12  spam  URGENT! You have won a 1 week FREE membership ...\n",
      "13   ham  I've been searching for the right words to tha...\n",
      "14   ham                I HAVE A DATE ON SUNDAY WITH WILL!!\n",
      "15  spam  XXXMobileMovieClub: To use your credit, click ...\n",
      "16   ham                         Oh k...i'm watching here:)\n",
      "17   ham  Eh u remember how 2 spell his name... Yes i di...\n",
      "18   ham  Fine if thatÂs the way u feel. ThatÂs the wa...\n",
      "19  spam  England v Macedonia - dont miss the goals/team...\n",
      "Precision: 1.0 / Recall: 0.805\n",
      "Prediction: ham\n"
     ]
    }
   ],
   "source": [
    "import nltk\n",
    "import pandas as pd\n",
    "import string\n",
    "import re\n",
    "from nltk.corpus import stopwords\n",
    "from sklearn.feature_extraction.text import TfidfVectorizer\n",
    "from sklearn.ensemble import RandomForestClassifier\n",
    "from sklearn.metrics import precision_score, recall_score\n",
    "from sklearn.model_selection import train_test_split\n",
    "\n",
    "try:\n",
    "    messages = pd.read_csv('C:\\\\Users\\\\DELL\\\\OneDrive\\\\Desktop\\\\aiml\\\\spamhamdata.csv', encoding=\"latin-1\", header=None, names=['label', 'text', 'col3', 'col4'])\n",
    "    messages = messages[['label', 'text']]  \n",
    "except:\n",
    "    \n",
    "    messages = pd.read_csv('C:\\\\Users\\\\DELL\\\\OneDrive\\\\Desktop\\\\aiml\\\\spamhamdata.csv', encoding=\"latin-1\", sep='\\t', header=None, names=['label', 'text'])\n",
    "    \n",
    "print('Number of nulls in labels:', messages['label'].isnull().sum())\n",
    "print('Number of nulls in text:', messages['text'].isnull().sum())\n",
    "print(messages.head(20))\n",
    "\n",
    "stopwords = stopwords.words('english')\n",
    "\n",
    "def clean_text(text):\n",
    "    text = \"\".join([char.lower() for char in str(text) if char not in string.punctuation])\n",
    "    tokens = re.split(r'\\W+', text)  # Fixed escape sequence\n",
    "    text = [word for word in tokens if word not in stopwords]\n",
    "    return text\n",
    "\n",
    "\n",
    "tfidf_vect = TfidfVectorizer(analyzer=clean_text)\n",
    "X_tfidf = tfidf_vect.fit_transform(messages['text'])\n",
    "X_features = pd.DataFrame(X_tfidf.toarray())\n",
    "\n",
    "\n",
    "X_train, X_test, y_train, y_test = train_test_split(\n",
    "    X_features, \n",
    "    messages['label'], \n",
    "    test_size=0.2,\n",
    "    random_state=42\n",
    ")\n",
    "rf = RandomForestClassifier()\n",
    "rf_model = rf.fit(X_train, y_train)\n",
    "\n",
    "y_pred = rf_model.predict(X_test)\n",
    "precision = precision_score(y_test, y_pred, pos_label='spam')\n",
    "recall = recall_score(y_test, y_pred, pos_label='spam')\n",
    "print(f'Precision: {round(precision, 3)} / Recall: {round(recall, 3)}')\n",
    "\n",
    "#manual testing\n",
    "text = [\"you won 1000 dollar for free share your otp now\"]\n",
    "text_tfidf = tfidf_vect.transform(text)\n",
    "print(\"Prediction:\", rf_model.predict(text_tfidf)[0])"
   ]
  },
  {
   "cell_type": "code",
   "execution_count": null,
   "id": "d482d71a-fee5-4800-8e91-6b864eddbb3c",
   "metadata": {},
   "outputs": [],
   "source": []
  }
 ],
 "metadata": {
  "kernelspec": {
   "display_name": "Python 3 (ipykernel)",
   "language": "python",
   "name": "python3"
  },
  "language_info": {
   "codemirror_mode": {
    "name": "ipython",
    "version": 3
   },
   "file_extension": ".py",
   "mimetype": "text/x-python",
   "name": "python",
   "nbconvert_exporter": "python",
   "pygments_lexer": "ipython3",
   "version": "3.13.2"
  }
 },
 "nbformat": 4,
 "nbformat_minor": 5
}
