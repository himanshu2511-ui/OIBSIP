{
 "cells": [
  {
   "cell_type": "code",
   "execution_count": 1,
   "id": "630577f1-b6f5-4a63-baf0-0cffbf489b49",
   "metadata": {},
   "outputs": [
    {
     "name": "stdout",
     "output_type": "stream",
     "text": [
      "Columns in the dataset: Index(['Id', 'SepalLengthCm', 'SepalWidthCm', 'PetalLengthCm', 'PetalWidthCm',\n",
      "       'Species'],\n",
      "      dtype='object')\n",
      "\n",
      "Classification Report:\n",
      "              precision    recall  f1-score   support\n",
      "\n",
      "           0       1.00      1.00      1.00        10\n",
      "           1       1.00      1.00      1.00         9\n",
      "           2       1.00      1.00      1.00        11\n",
      "\n",
      "    accuracy                           1.00        30\n",
      "   macro avg       1.00      1.00      1.00        30\n",
      "weighted avg       1.00      1.00      1.00        30\n",
      "\n",
      "Accuracy: 1.0\n",
      "\n",
      "Predicted species of first 10 samples:\n",
      "Sample 1: 0\n",
      "Sample 2: 0\n",
      "Sample 3: 0\n",
      "Sample 4: 0\n",
      "Sample 5: 0\n",
      "Sample 6: 0\n",
      "Sample 7: 0\n",
      "Sample 8: 0\n",
      "Sample 9: 0\n",
      "Sample 10: 0\n"
     ]
    }
   ],
   "source": [
    "import pandas as pd\n",
    "from sklearn.model_selection import train_test_split\n",
    "from sklearn.preprocessing import LabelEncoder\n",
    "from sklearn.tree import DecisionTreeClassifier\n",
    "from sklearn.metrics import classification_report, accuracy_score\n",
    "\n",
    "# Step 1: Load dataset (Update file path as needed)\n",
    "file_path = r'C:\\Users\\DELL\\OneDrive\\Desktop\\oasis_infobyte\\iris.csv'\n",
    "df = pd.read_csv(file_path)\n",
    "\n",
    "# Step 2: Check columns\n",
    "print(\"Columns in the dataset:\", df.columns)\n",
    "\n",
    "# Step 3: Encode the target column correctly (fix name if needed)\n",
    "target_col = 'Species'  # Make sure it matches exactly\n",
    "df[target_col] = LabelEncoder().fit_transform(df[target_col])\n",
    "\n",
    "# Step 4: Separate features and target\n",
    "X = df.drop(target_col, axis=1)\n",
    "y = df[target_col]\n",
    "\n",
    "# Step 5: Train-test split\n",
    "X_train, X_test, y_train, y_test = train_test_split(X, y, test_size=0.2, random_state=42)\n",
    "\n",
    "# Step 6: Train the model\n",
    "model = DecisionTreeClassifier()\n",
    "model.fit(X_train, y_train)\n",
    "\n",
    "# Step 7: Evaluate model\n",
    "y_pred = model.predict(X_test)\n",
    "print(\"\\nClassification Report:\")\n",
    "print(classification_report(y_test, y_pred))\n",
    "print(\"Accuracy:\", accuracy_score(y_test, y_pred))\n",
    "\n",
    "# Step 8: Predict first 10 samples and decode species names\n",
    "first_10_preds = model.predict(X.head(10))\n",
    "label_encoder = LabelEncoder()\n",
    "label_encoder.fit(df[target_col])  # Refit encoder on target to decode\n",
    "decoded_preds = label_encoder.inverse_transform(first_10_preds)\n",
    "\n",
    "# Step 9: Display predictions\n",
    "print(\"\\nPredicted species of first 10 samples:\")\n",
    "for i, species in enumerate(decoded_preds):\n",
    "    print(f\"Sample {i+1}: {species}\")\n"
   ]
  },
  {
   "cell_type": "code",
   "execution_count": null,
   "id": "f7cd45f3-3408-462f-94fd-877f6c20bfb1",
   "metadata": {},
   "outputs": [],
   "source": []
  }
 ],
 "metadata": {
  "kernelspec": {
   "display_name": "Python 3 (ipykernel)",
   "language": "python",
   "name": "python3"
  },
  "language_info": {
   "codemirror_mode": {
    "name": "ipython",
    "version": 3
   },
   "file_extension": ".py",
   "mimetype": "text/x-python",
   "name": "python",
   "nbconvert_exporter": "python",
   "pygments_lexer": "ipython3",
   "version": "3.13.2"
  }
 },
 "nbformat": 4,
 "nbformat_minor": 5
}
